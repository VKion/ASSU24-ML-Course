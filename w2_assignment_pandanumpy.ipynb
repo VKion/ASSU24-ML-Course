{
 "cells": [
  {
   "cell_type": "code",
   "execution_count": 1,
   "metadata": {},
   "outputs": [],
   "source": [
    "import numpy as np\n",
    "import pandas as pd\n",
    "import scipy as sp"
   ]
  },
  {
   "cell_type": "code",
   "execution_count": 2,
   "metadata": {},
   "outputs": [],
   "source": [
    "%matplotlib inline\n",
    "import matplotlib.pyplot as plt\n",
    "plt.style.use('ggplot')"
   ]
  },
  {
   "cell_type": "code",
   "execution_count": 3,
   "metadata": {},
   "outputs": [
    {
     "name": "stdout",
     "output_type": "stream",
     "text": [
      "Writing hw_data.csv\n"
     ]
    }
   ],
   "source": [
    "%%file hw_data.csv\n",
    "id,sex,weight,height\n",
    "1,M,190,77\n",
    "2,F,120,70\n",
    "3,F,110,68\n",
    "4,M,150,72\n",
    "5,O,120,66\n",
    "6,M,120,60\n",
    "7,F,140,70"
   ]
  },
  {
   "cell_type": "markdown",
   "metadata": {},
   "source": [
    "# Python"
   ]
  },
  {
   "cell_type": "markdown",
   "metadata": {},
   "source": [
    "## 1. Finish creating the following function that takes a list and returns the average value.\n",
    "\n",
    "Add each element in the list to `total` and return `total`\n",
    "\n",
    "### DO NOT use a library function nor `sum()`"
   ]
  },
  {
   "cell_type": "code",
   "execution_count": 4,
   "metadata": {},
   "outputs": [
    {
     "data": {
      "text/plain": [
       "3.375"
      ]
     },
     "execution_count": 4,
     "metadata": {},
     "output_type": "execute_result"
    }
   ],
   "source": [
    "def average(my_list):\n",
    "    total = 0\n",
    "    for item in my_list:\n",
    "        #do something with item!\n",
    "        total += item\n",
    "    return total/len(my_list)\n",
    "    \n",
    "average([1,2,1,4,3,2,5,9])"
   ]
  },
  {
   "cell_type": "markdown",
   "metadata": {},
   "source": [
    "## 2. Using a Dictionary keep track of the count of numbers (or items) from a list"
   ]
  },
  {
   "cell_type": "code",
   "execution_count": 5,
   "metadata": {},
   "outputs": [
    {
     "data": {
      "text/plain": [
       "{1: 2, 2: 2, 4: 1, 3: 1, 5: 1, 9: 1}"
      ]
     },
     "execution_count": 5,
     "metadata": {},
     "output_type": "execute_result"
    }
   ],
   "source": [
    "def counts(my_list):\n",
    "    counts = dict()\n",
    "    for item in my_list:\n",
    "        #do something with item!\n",
    "        if item in counts:\n",
    "            counts[item] += 1\n",
    "        else:\n",
    "            counts[item] = 1\n",
    "    \n",
    "    return counts\n",
    "\n",
    "counts([1,2,1,4,3,2,5,9])    "
   ]
  },
  {
   "cell_type": "markdown",
   "metadata": {},
   "source": [
    "## 3.  Using the `counts()` function you created above and the `.split()` function, return a dictionary of most occuring words from the following paragraph. Bonus, remove punctuation from words."
   ]
  },
  {
   "cell_type": "code",
   "execution_count": 10,
   "metadata": {},
   "outputs": [
    {
     "data": {
      "text/plain": [
       "{'For': 2,\n",
       " 'a': 15,\n",
       " 'minute': 1,\n",
       " 'or': 2,\n",
       " 'two': 2,\n",
       " 'she': 6,\n",
       " 'stood': 1,\n",
       " 'looking': 2,\n",
       " 'at': 6,\n",
       " 'the': 32,\n",
       " 'house': 2,\n",
       " 'and': 16,\n",
       " 'wondering': 1,\n",
       " 'what': 2,\n",
       " 'to': 15,\n",
       " 'do': 1,\n",
       " 'next': 2,\n",
       " 'when': 2,\n",
       " 'suddenly': 1,\n",
       " 'footman': 3,\n",
       " 'in': 7,\n",
       " 'livery': 2,\n",
       " 'came': 2,\n",
       " 'running': 1,\n",
       " 'out': 5,\n",
       " 'of': 9,\n",
       " 'wood—(she': 1,\n",
       " 'considered': 1,\n",
       " 'him': 3,\n",
       " 'be': 2,\n",
       " 'because': 3,\n",
       " 'he': 5,\n",
       " 'was': 8,\n",
       " 'livery:': 1,\n",
       " 'otherwise': 1,\n",
       " 'judging': 1,\n",
       " 'by': 3,\n",
       " 'his': 5,\n",
       " 'face': 2,\n",
       " 'only': 2,\n",
       " 'would': 1,\n",
       " 'have': 1,\n",
       " 'called': 1,\n",
       " 'fish)—and': 1,\n",
       " 'rapped': 1,\n",
       " 'loudly': 1,\n",
       " 'door': 6,\n",
       " 'with': 2,\n",
       " 'knuckles': 1,\n",
       " 'It': 1,\n",
       " 'opened': 2,\n",
       " 'another': 1,\n",
       " 'round': 1,\n",
       " 'large': 3,\n",
       " 'eyes': 2,\n",
       " 'like': 1,\n",
       " 'frog;': 1,\n",
       " 'both': 2,\n",
       " 'footmen': 1,\n",
       " 'Alice': 5,\n",
       " 'noticed': 1,\n",
       " 'had': 4,\n",
       " 'powdered': 1,\n",
       " 'hair': 1,\n",
       " 'that': 3,\n",
       " 'curled': 1,\n",
       " 'all': 3,\n",
       " 'over': 2,\n",
       " 'their': 3,\n",
       " 'heads': 1,\n",
       " 'She': 1,\n",
       " 'felt': 1,\n",
       " 'very': 2,\n",
       " 'curious': 1,\n",
       " 'know': 1,\n",
       " 'it': 2,\n",
       " 'about': 1,\n",
       " 'crept': 1,\n",
       " 'little': 2,\n",
       " 'way': 1,\n",
       " 'wood': 2,\n",
       " 'listen': 1,\n",
       " 'The': 2,\n",
       " 'Fish-Footman': 2,\n",
       " 'began': 1,\n",
       " 'producing': 1,\n",
       " 'from': 2,\n",
       " 'under': 1,\n",
       " 'arm': 1,\n",
       " 'great': 2,\n",
       " 'letter': 1,\n",
       " 'nearly': 2,\n",
       " 'as': 4,\n",
       " 'himself': 1,\n",
       " 'this': 4,\n",
       " 'handed': 1,\n",
       " 'other': 2,\n",
       " 'saying': 1,\n",
       " 'solemn': 2,\n",
       " 'tone': 2,\n",
       " '‘For': 1,\n",
       " 'Duchess': 2,\n",
       " 'An': 2,\n",
       " 'invitation': 2,\n",
       " 'Queen': 2,\n",
       " 'play': 2,\n",
       " 'croquet.’': 2,\n",
       " 'Frog-Footman': 1,\n",
       " 'repeated': 2,\n",
       " 'same': 2,\n",
       " 'changing': 1,\n",
       " 'order': 1,\n",
       " 'words': 1,\n",
       " '‘From': 1,\n",
       " 'for': 3,\n",
       " 'Then': 1,\n",
       " 'they': 1,\n",
       " 'bowed': 1,\n",
       " 'low': 1,\n",
       " 'curls': 1,\n",
       " 'got': 1,\n",
       " 'entangled': 1,\n",
       " 'together': 1,\n",
       " 'laughed': 1,\n",
       " 'so': 2,\n",
       " 'much': 1,\n",
       " 'run': 1,\n",
       " 'back': 1,\n",
       " 'into': 3,\n",
       " 'fear': 1,\n",
       " 'hearing': 1,\n",
       " 'her;': 1,\n",
       " 'peeped': 1,\n",
       " 'gone': 1,\n",
       " 'sitting': 1,\n",
       " 'on': 4,\n",
       " 'ground': 1,\n",
       " 'near': 1,\n",
       " 'staring': 1,\n",
       " 'stupidly': 1,\n",
       " 'up': 3,\n",
       " 'sky': 2,\n",
       " 'went': 2,\n",
       " 'timidly': 1,\n",
       " 'knocked': 1,\n",
       " '‘There’s': 1,\n",
       " 'no': 2,\n",
       " 'sort': 1,\n",
       " 'use': 1,\n",
       " 'knocking,’': 2,\n",
       " 'said': 3,\n",
       " 'Footman': 3,\n",
       " '‘and': 1,\n",
       " 'reasons': 1,\n",
       " 'First': 1,\n",
       " 'I’m': 1,\n",
       " 'side': 1,\n",
       " 'you': 5,\n",
       " 'are;': 1,\n",
       " 'secondly': 1,\n",
       " 'they’re': 1,\n",
       " 'making': 1,\n",
       " 'such': 1,\n",
       " 'noise': 2,\n",
       " 'inside': 2,\n",
       " 'one': 2,\n",
       " 'could': 2,\n",
       " 'possibly': 1,\n",
       " 'hear': 1,\n",
       " 'you.’': 1,\n",
       " 'And': 1,\n",
       " 'certainly': 1,\n",
       " 'there': 1,\n",
       " 'most': 1,\n",
       " 'extraordinary': 1,\n",
       " 'going': 1,\n",
       " 'within—a': 1,\n",
       " 'constant': 1,\n",
       " 'howling': 1,\n",
       " 'sneezing': 1,\n",
       " 'every': 1,\n",
       " 'now': 1,\n",
       " 'then': 1,\n",
       " 'crash': 1,\n",
       " 'if': 2,\n",
       " 'dish': 1,\n",
       " 'kettle': 1,\n",
       " 'been': 1,\n",
       " 'broken': 1,\n",
       " 'pieces': 2,\n",
       " '‘Please': 1,\n",
       " 'then,’': 1,\n",
       " '‘how': 1,\n",
       " 'am': 2,\n",
       " 'I': 3,\n",
       " 'get': 2,\n",
       " 'in?’': 2,\n",
       " '‘There': 1,\n",
       " 'might': 3,\n",
       " 'some': 1,\n",
       " 'sense': 1,\n",
       " 'your': 1,\n",
       " 'without': 1,\n",
       " 'attending': 1,\n",
       " 'her': 1,\n",
       " '‘if': 1,\n",
       " 'we': 1,\n",
       " 'between': 1,\n",
       " 'us': 1,\n",
       " 'instance': 1,\n",
       " 'were': 1,\n",
       " 'knock': 1,\n",
       " 'let': 1,\n",
       " 'know.’': 1,\n",
       " 'He': 1,\n",
       " 'time': 1,\n",
       " 'speaking': 1,\n",
       " 'thought': 1,\n",
       " 'decidedly': 1,\n",
       " 'uncivil': 1,\n",
       " '‘But': 1,\n",
       " 'perhaps': 1,\n",
       " 'can’t': 1,\n",
       " 'help': 1,\n",
       " 'it,’': 1,\n",
       " 'herself;': 1,\n",
       " '‘his': 1,\n",
       " 'are': 1,\n",
       " 'top': 1,\n",
       " 'head': 1,\n",
       " 'But': 1,\n",
       " 'any': 1,\n",
       " 'rate': 1,\n",
       " 'answer': 1,\n",
       " 'questions.—How': 1,\n",
       " 'aloud': 1,\n",
       " '‘I': 1,\n",
       " 'shall': 1,\n",
       " 'sit': 1,\n",
       " 'here,’': 1,\n",
       " 'remarked': 1,\n",
       " '‘till': 1,\n",
       " 'tomorrow—’': 1,\n",
       " 'At': 1,\n",
       " 'moment': 1,\n",
       " 'plate': 1,\n",
       " 'skimming': 1,\n",
       " 'straight': 1,\n",
       " 'Footman’s': 1,\n",
       " 'head:': 1,\n",
       " 'just': 1,\n",
       " 'grazed': 1,\n",
       " 'nose': 1,\n",
       " 'broke': 1,\n",
       " 'against': 1,\n",
       " 'trees': 1,\n",
       " 'behind': 1}"
      ]
     },
     "execution_count": 10,
     "metadata": {},
     "output_type": "execute_result"
    }
   ],
   "source": [
    "paragraph_text = '''\n",
    "For a minute or two she stood looking at the house, and wondering what to do next, when suddenly a footman in livery came running out of the wood—(she considered him to be a footman because he was in livery: otherwise, judging by his face only, she would have called him a fish)—and rapped loudly at the door with his knuckles. It was opened by another footman in livery, with a round face, and large eyes like a frog; and both footmen, Alice noticed, had powdered hair that curled all over their heads. She felt very curious to know what it was all about, and crept a little way out of the wood to listen.\n",
    "The Fish-Footman began by producing from under his arm a great letter, nearly as large as himself, and this he handed over to the other, saying, in a solemn tone, ‘For the Duchess. An invitation from the Queen to play croquet.’ The Frog-Footman repeated, in the same solemn tone, only changing the order of the words a little, ‘From the Queen. An invitation for the Duchess to play croquet.’\n",
    "Then they both bowed low, and their curls got entangled together.\n",
    "Alice laughed so much at this, that she had to run back into the wood for fear of their hearing her; and when she next peeped out the Fish-Footman was gone, and the other was sitting on the ground near the door, staring stupidly up into the sky.\n",
    "Alice went timidly up to the door, and knocked.\n",
    "‘There’s no sort of use in knocking,’ said the Footman, ‘and that for two reasons. First, because I’m on the same side of the door as you are; secondly, because they’re making such a noise inside, no one could possibly hear you.’ And certainly there was a most extraordinary noise going on within—a constant howling and sneezing, and every now and then a great crash, as if a dish or kettle had been broken to pieces.\n",
    "‘Please, then,’ said Alice, ‘how am I to get in?’\n",
    "‘There might be some sense in your knocking,’ the Footman went on without attending to her, ‘if we had the door between us. For instance, if you were inside, you might knock, and I could let you out, you know.’ He was looking up into the sky all the time he was speaking, and this Alice thought decidedly uncivil. ‘But perhaps he can’t help it,’ she said to herself; ‘his eyes are so very nearly at the top of his head. But at any rate he might answer questions.—How am I to get in?’ she repeated, aloud.\n",
    "‘I shall sit here,’ the Footman remarked, ‘till tomorrow—’\n",
    "At this moment the door of the house opened, and a large plate came skimming out, straight at the Footman’s head: it just grazed his nose, and broke to pieces against one of the trees behind him.'''\n",
    "\n",
    "words = paragraph_text.split() # Apply the split method to paragraph_text\n",
    "words = [word.strip(',.') for word in words] # Remove commas and periods from words\n",
    "counts(words)"
   ]
  },
  {
   "cell_type": "markdown",
   "metadata": {},
   "source": [
    "## 4. Read in a file using `open()` and iterated through the file line-by-line write each line from the file to a new file in a  `title()`-ized. Create your own file for input\n",
    "\n",
    "`This is the first line` ->  `This Is The First Line`\n",
    "\n",
    "Hint: There's a function to do this"
   ]
  },
  {
   "cell_type": "code",
   "execution_count": 14,
   "metadata": {},
   "outputs": [
    {
     "name": "stdout",
     "output_type": "stream",
     "text": [
      "For a minute or two she stood looking at the house, and wondering what to do next, when suddenly a footman in livery came running out of the wood(she considered him to be a footman because he was in livery: otherwise, judging by his face only, she would have called him a fish)and rapped loudly at the door with his knuckles. It was opened by another footman in livery, with a round face, and large eyes like a frog; and both footmen, Alice noticed, had powdered hair that curled all over their heads. She felt very curious to know what it was all about, and crept a little way out of the wood to listen.\n",
      "The Fish-Footman began by producing from under his arm a great letter, nearly as large as himself, and this he handed over to the other, saying, in a solemn tone, For the Duchess. An invitation from the Queen to play croquet. The Frog-Footman repeated, in the same solemn tone, only changing the order of the words a little, From the Queen. An invitation for the Duchess to play croquet.\n",
      "Then they both bowed low, and their curls got entangled together.\n",
      "Alice laughed so much at this, that she had to run back into the wood for fear of their hearing her; and when she next peeped out the Fish-Footman was gone, and the other was sitting on the ground near the door, staring stupidly up into the sky.\n",
      "Alice went timidly up to the door, and knocked.\n",
      "Theres no sort of use in knocking, said the Footman, and that for two reasons. First, because Im on the same side of the door as you are; secondly, because theyre making such a noise inside, no one could possibly hear you. And certainly there was a most extraordinary noise going on withina constant howling and sneezing, and every now and then a great crash, as if a dish or kettle had been broken to pieces.\n",
      "Please, then, said Alice, how am I to get in?\n",
      "There might be some sense in your knocking, the Footman went on without attending to her, if we had the door between us. For instance, if you were inside, you might knock, and I could let you out, you know. He was looking up into the sky all the time he was speaking, and this Alice thought decidedly uncivil. But perhaps he cant help it, she said to herself; his eyes are so very nearly at the top of his head. But at any rate he might answer questions.How am I to get in? she repeated, aloud.\n",
      "I shall sit here, the Footman remarked, till tomorrow\n",
      "At this moment the door of the house opened, and a large plate came skimming out, straight at the Footmans head: it just grazed his nose, and broke to pieces against one of the trees behind him.'''\n",
      "\n"
     ]
    }
   ],
   "source": [
    "# Using the previously given paragraph, create a txt file named `paragraph.txt`.\n",
    "# Read in a file using `open()` and iterated through the file line-by-line write each line from the file to a new file in a  `title()`-ized. Create your own file for input\n",
    "with open('paragraph.txt', 'r', encoding='utf-8', errors='ignore') as f:\n",
    "    with open('paragraph_title.txt', 'w', encoding='utf-8', errors='ignore') as f2:\n",
    "        for line in f:\n",
    "            f2.write(line.title())\n",
    "\n",
    "# Input file is paragraph.txt\n",
    "# Print the contents of the input file\n",
    "with open('paragraph.txt', 'r', encoding='utf-8', errors='ignore') as f:\n",
    "    print(f.read())\n",
    "\n"
   ]
  },
  {
   "cell_type": "code",
   "execution_count": 15,
   "metadata": {},
   "outputs": [
    {
     "name": "stdout",
     "output_type": "stream",
     "text": [
      "For A Minute Or Two She Stood Looking At The House, And Wondering What To Do Next, When Suddenly A Footman In Livery Came Running Out Of The Wood(She Considered Him To Be A Footman Because He Was In Livery: Otherwise, Judging By His Face Only, She Would Have Called Him A Fish)And Rapped Loudly At The Door With His Knuckles. It Was Opened By Another Footman In Livery, With A Round Face, And Large Eyes Like A Frog; And Both Footmen, Alice Noticed, Had Powdered Hair That Curled All Over Their Heads. She Felt Very Curious To Know What It Was All About, And Crept A Little Way Out Of The Wood To Listen.\n",
      "The Fish-Footman Began By Producing From Under His Arm A Great Letter, Nearly As Large As Himself, And This He Handed Over To The Other, Saying, In A Solemn Tone, For The Duchess. An Invitation From The Queen To Play Croquet. The Frog-Footman Repeated, In The Same Solemn Tone, Only Changing The Order Of The Words A Little, From The Queen. An Invitation For The Duchess To Play Croquet.\n",
      "Then They Both Bowed Low, And Their Curls Got Entangled Together.\n",
      "Alice Laughed So Much At This, That She Had To Run Back Into The Wood For Fear Of Their Hearing Her; And When She Next Peeped Out The Fish-Footman Was Gone, And The Other Was Sitting On The Ground Near The Door, Staring Stupidly Up Into The Sky.\n",
      "Alice Went Timidly Up To The Door, And Knocked.\n",
      "Theres No Sort Of Use In Knocking, Said The Footman, And That For Two Reasons. First, Because Im On The Same Side Of The Door As You Are; Secondly, Because Theyre Making Such A Noise Inside, No One Could Possibly Hear You. And Certainly There Was A Most Extraordinary Noise Going On Withina Constant Howling And Sneezing, And Every Now And Then A Great Crash, As If A Dish Or Kettle Had Been Broken To Pieces.\n",
      "Please, Then, Said Alice, How Am I To Get In?\n",
      "There Might Be Some Sense In Your Knocking, The Footman Went On Without Attending To Her, If We Had The Door Between Us. For Instance, If You Were Inside, You Might Knock, And I Could Let You Out, You Know. He Was Looking Up Into The Sky All The Time He Was Speaking, And This Alice Thought Decidedly Uncivil. But Perhaps He Cant Help It, She Said To Herself; His Eyes Are So Very Nearly At The Top Of His Head. But At Any Rate He Might Answer Questions.How Am I To Get In? She Repeated, Aloud.\n",
      "I Shall Sit Here, The Footman Remarked, Till Tomorrow\n",
      "At This Moment The Door Of The House Opened, And A Large Plate Came Skimming Out, Straight At The Footmans Head: It Just Grazed His Nose, And Broke To Pieces Against One Of The Trees Behind Him.'''\n",
      "\n"
     ]
    }
   ],
   "source": [
    "# Output file is paragraph_title.txt\n",
    "# Print the contents of the output file\n",
    "with open('paragraph_title.txt', 'r', encoding='utf-8', errors='ignore') as f:\n",
    "    print(f.read())"
   ]
  },
  {
   "cell_type": "markdown",
   "metadata": {},
   "source": [
    "# Numpy"
   ]
  },
  {
   "cell_type": "markdown",
   "metadata": {},
   "source": [
    "## 1. Given a list, find the average using a numpy function. "
   ]
  },
  {
   "cell_type": "code",
   "execution_count": 17,
   "metadata": {},
   "outputs": [
    {
     "data": {
      "text/plain": [
       "3.375"
      ]
     },
     "execution_count": 17,
     "metadata": {},
     "output_type": "execute_result"
    }
   ],
   "source": [
    "simple_list = [1,2,1,4,3,2,5,9]\n",
    "\n",
    "np.mean(simple_list)"
   ]
  },
  {
   "cell_type": "markdown",
   "metadata": {},
   "source": [
    "## 2. Given two lists of Heights and Weights of individual, calculate the BMI of those individuals, without writing a `for-loop`"
   ]
  },
  {
   "cell_type": "code",
   "execution_count": 19,
   "metadata": {},
   "outputs": [
    {
     "name": "stdout",
     "output_type": "stream",
     "text": [
      "[29.06592681 27.73229978 30.73941662 24.16326531 26.33288875]\n"
     ]
    }
   ],
   "source": [
    "heights = [174, 173, 173, 175, 171]\n",
    "weights = [88, 83, 92, 74, 77]\n",
    "\n",
    "# Calculate the BMI of these individuals without writing a for-loop\n",
    "weights = np.array([88, 83, 92, 74, 77])\n",
    "heights = np.array([174, 173, 173, 175, 171])\n",
    "bmi = weights / (heights / 100) ** 2\n",
    "print(bmi)"
   ]
  },
  {
   "cell_type": "markdown",
   "metadata": {},
   "source": [
    "## 3. Create an array of length 20 filled with random values (between 0 to 1) "
   ]
  },
  {
   "cell_type": "code",
   "execution_count": 22,
   "metadata": {},
   "outputs": [
    {
     "name": "stdout",
     "output_type": "stream",
     "text": [
      "[0.70518663 0.82060228 0.12694439 0.20000374 0.33062344 0.28738643\n",
      " 0.66688859 0.15084659 0.65132298 0.45297605 0.41726408 0.45240252\n",
      " 0.78822985 0.6424484  0.36425512 0.86540974 0.30082521 0.23085055\n",
      " 0.93639892 0.8345177 ]\n"
     ]
    }
   ],
   "source": [
    "rand_array = np.random.rand(20)\n",
    "print(rand_array)"
   ]
  },
  {
   "cell_type": "markdown",
   "metadata": {},
   "source": [
    "## 4. Create an array with at least 1000 random numbers from normal distributions (normal). Then, plot a histogram of these values (`plt.hist`)."
   ]
  },
  {
   "cell_type": "code",
   "execution_count": 24,
   "metadata": {},
   "outputs": [
    {
     "data": {
      "text/plain": [
       "(array([  1.,   1.,  10.,  21.,  29.,  39.,  81.,  80., 104., 142., 124.,\n",
       "        111.,  88.,  72.,  36.,  29.,  17.,   8.,   4.,   3.]),\n",
       " array([-3.28763321, -2.95748117, -2.62732912, -2.29717708, -1.96702503,\n",
       "        -1.63687299, -1.30672094, -0.9765689 , -0.64641686, -0.31626481,\n",
       "         0.01388723,  0.34403928,  0.67419132,  1.00434337,  1.33449541,\n",
       "         1.66464746,  1.9947995 ,  2.32495154,  2.65510359,  2.98525563,\n",
       "         3.31540768]),\n",
       " <BarContainer object of 20 artists>)"
      ]
     },
     "execution_count": 24,
     "metadata": {},
     "output_type": "execute_result"
    },
    {
     "data": {
      "image/png": "[encoded data removed]",
      "text/plain": [
       "<Figure size 640x480 with 1 Axes>"
      ]
     },
     "metadata": {},
     "output_type": "display_data"
    }
   ],
   "source": [
    "rand_array = np.random.randn(1000)\n",
    "plt.hist(rand_array, bins=20)"
   ]
  },
  {
   "cell_type": "markdown",
   "metadata": {},
   "source": [
    "# Pandas"
   ]
  },
  {
   "cell_type": "markdown",
   "metadata": {},
   "source": [
    "## 1. Read in a CSV () and display all the columns and their respective data types "
   ]
  },
  {
   "cell_type": "code",
   "execution_count": 25,
   "metadata": {},
   "outputs": [
    {
     "name": "stdout",
     "output_type": "stream",
     "text": [
      "id         int64\n",
      "sex       object\n",
      "weight     int64\n",
      "height     int64\n",
      "dtype: object\n"
     ]
    }
   ],
   "source": [
    "# Read in a CSV () and display all the columns and their respective data types \n",
    "df = pd.read_csv('hw_data.csv')\n",
    "print(df.dtypes)"
   ]
  },
  {
   "cell_type": "markdown",
   "metadata": {},
   "source": [
    "## 2. Find the average weight "
   ]
  },
  {
   "cell_type": "code",
   "execution_count": 28,
   "metadata": {},
   "outputs": [
    {
     "name": "stdout",
     "output_type": "stream",
     "text": [
      "135.71428571428572\n"
     ]
    }
   ],
   "source": [
    "print(df['weight'].mean())"
   ]
  },
  {
   "cell_type": "markdown",
   "metadata": {},
   "source": [
    "## 3. Find the Value Counts on column `sex` "
   ]
  },
  {
   "cell_type": "code",
   "execution_count": 29,
   "metadata": {},
   "outputs": [
    {
     "data": {
      "text/plain": [
       "sex\n",
       "M    3\n",
       "F    3\n",
       "O    1\n",
       "Name: count, dtype: int64"
      ]
     },
     "execution_count": 29,
     "metadata": {},
     "output_type": "execute_result"
    }
   ],
   "source": [
    "# Find the value counts on column sex\n",
    "df['sex'].value_counts()"
   ]
  },
  {
   "cell_type": "markdown",
   "metadata": {},
   "source": [
    "## 4. Plot Height vs. Weight "
   ]
  },
  {
   "cell_type": "code",
   "execution_count": 31,
   "metadata": {},
   "outputs": [
    {
     "data": {
      "text/plain": [
       "<matplotlib.collections.PathCollection at 0x13c3c3dc0>"
      ]
     },
     "execution_count": 31,
     "metadata": {},
     "output_type": "execute_result"
    },
    {
     "data": {
      "image/png": "[encoded data removed]",
      "text/plain": [
       "<Figure size 640x480 with 1 Axes>"
      ]
     },
     "metadata": {},
     "output_type": "display_data"
    }
   ],
   "source": [
    "# Plot height vs weight\n",
    "plt.scatter(df['height'], df['weight'])"
   ]
  },
  {
   "cell_type": "markdown",
   "metadata": {},
   "source": [
    "## 5. Calculate BMI and save as a new column"
   ]
  },
  {
   "cell_type": "code",
   "execution_count": 33,
   "metadata": {},
   "outputs": [
    {
     "name": "stdout",
     "output_type": "stream",
     "text": [
      "   id sex  weight  height         bmi\n",
      "0   1   M     190      77  320.458762\n",
      "1   2   F     120      70  244.897959\n",
      "2   3   F     110      68  237.889273\n",
      "3   4   M     150      72  289.351852\n",
      "4   5   O     120      66  275.482094\n",
      "5   6   M     120      60  333.333333\n",
      "6   7   F     140      70  285.714286\n"
     ]
    }
   ],
   "source": [
    "# Calculate the BMI and save as a new column\n",
    "df['bmi'] = df['weight'] / (df['height'] / 100) ** 2\n",
    "print(df)"
   ]
  },
  {
   "cell_type": "markdown",
   "metadata": {},
   "source": [
    "## 6. Save sheet as a new CSV file `hw_dataB.csv`"
   ]
  },
  {
   "cell_type": "code",
   "execution_count": 34,
   "metadata": {},
   "outputs": [],
   "source": [
    "df.to_csv('hw_dataB.csv')"
   ]
  },
  {
   "cell_type": "markdown",
   "metadata": {},
   "source": [
    "## Run the following (Mac)"
   ]
  },
  {
   "cell_type": "code",
   "execution_count": 35,
   "metadata": {},
   "outputs": [
    {
     "name": "stdout",
     "output_type": "stream",
     "text": [
      ",id,sex,weight,height,bmi\n",
      "0,1,M,190,77,320.4587620172036\n",
      "1,2,F,120,70,244.8979591836735\n",
      "2,3,F,110,68,237.88927335640133\n",
      "3,4,M,150,72,289.35185185185185\n",
      "4,5,O,120,66,275.4820936639118\n",
      "5,6,M,120,60,333.33333333333337\n",
      "6,7,F,140,70,285.7142857142858\n"
     ]
    }
   ],
   "source": [
    "!cat hw_dataB.csv"
   ]
  },
  {
   "cell_type": "markdown",
   "metadata": {},
   "source": [
    "## Run the following (Windows) "
   ]
  },
  {
   "cell_type": "code",
   "execution_count": null,
   "metadata": {},
   "outputs": [],
   "source": [
    "!type hw_dataB.csv"
   ]
  }
 ],
 "metadata": {
  "kernelspec": {
   "display_name": "Python 3 (ipykernel)",
   "language": "python",
   "name": "python3"
  },
  "language_info": {
   "codemirror_mode": {
    "name": "ipython",
    "version": 3
   },
   "file_extension": ".py",
   "mimetype": "text/x-python",
   "name": "python",
   "nbconvert_exporter": "python",
   "pygments_lexer": "ipython3",
   "version": "3.9.18"
  }
 },
 "nbformat": 4,
 "nbformat_minor": 1
}
