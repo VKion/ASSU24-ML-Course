{
 "cells": [
  {
   "cell_type": "markdown",
   "metadata": {},
   "source": [
    "## Week 1 Assignment\n",
    "Created: May 24th, 2024\n",
    "Last Modified: May 24th, 2024\n",
    "\n",
    "Author: Yiping Wang"
   ]
  },
  {
   "cell_type": "code",
   "execution_count": 10,
   "metadata": {},
   "outputs": [],
   "source": [
    "# import Python data science related libraries \n",
    "import pandas as pd\n",
    "import numpy as np"
   ]
  },
  {
   "cell_type": "code",
   "execution_count": 11,
   "metadata": {},
   "outputs": [
    {
     "name": "stdout",
     "output_type": "stream",
     "text": [
      "            A         B       C\n",
      "0    1.764052  0.821904  Medium\n",
      "1    0.400157  0.700529     Low\n",
      "2    0.978738  0.883078  Medium\n",
      "3    2.240893  0.966575     Low\n",
      "4    1.867558  0.774748    High\n",
      "..        ...       ...     ...\n",
      "995  0.412871  0.503528    High\n",
      "996 -0.198399  0.620842  Medium\n",
      "997  0.094192  0.832988    High\n",
      "998 -1.147611  0.564597     Low\n",
      "999 -0.358114  0.090969     Low\n",
      "\n",
      "[1000 rows x 3 columns]\n"
     ]
    }
   ],
   "source": [
    "# Generate a random dataset\n",
    "np.random.seed(0)\n",
    "n = 1000\n",
    "df = pd.DataFrame({\n",
    "    'A': np.random.randn(n),\n",
    "    'B': np.random.rand(n),\n",
    "    'C': np.random.choice(['Low', 'Medium', 'High'], n)\n",
    "})\n",
    "print(df)"
   ]
  },
  {
   "cell_type": "code",
   "execution_count": 12,
   "metadata": {},
   "outputs": [
    {
     "name": "stdout",
     "output_type": "stream",
     "text": [
      "          A         B       C\n",
      "0  1.764052  0.821904  Medium\n",
      "1  0.400157  0.700529     Low\n",
      "2  0.978738  0.883078  Medium\n",
      "3  2.240893  0.966575     Low\n",
      "4  1.867558  0.774748    High\n",
      "                 A            B\n",
      "count  1000.000000  1000.000000\n",
      "mean     -0.045257     0.512866\n",
      "std       0.987527     0.292242\n",
      "min      -3.046143     0.000074\n",
      "25%      -0.698420     0.268589\n",
      "50%      -0.058028     0.528199\n",
      "75%       0.606951     0.769097\n",
      "max       2.759355     0.998527\n",
      "<class 'pandas.core.frame.DataFrame'>\n",
      "RangeIndex: 1000 entries, 0 to 999\n",
      "Data columns (total 3 columns):\n",
      " #   Column  Non-Null Count  Dtype  \n",
      "---  ------  --------------  -----  \n",
      " 0   A       1000 non-null   float64\n",
      " 1   B       1000 non-null   float64\n",
      " 2   C       1000 non-null   object \n",
      "dtypes: float64(2), object(1)\n",
      "memory usage: 23.6+ KB\n",
      "None\n",
      "C\n",
      "Medium    341\n",
      "Low       335\n",
      "High      324\n",
      "Name: count, dtype: int64\n",
      "C\n",
      "Medium    0.341\n",
      "Low       0.335\n",
      "High      0.324\n",
      "Name: proportion, dtype: float64\n"
     ]
    }
   ],
   "source": [
    "# Write a few pandas functions to get a feel for the data\n",
    "print(df.head()) # Return the first five rows of df\n",
    "print(df.describe()) # Return a statistical summary of the data\n",
    "print(df.info()) # Return a concise summary of the data\n",
    "print(df['C'].value_counts()) # Return the frequency of each unique value in column C\n",
    "print(df['C'].value_counts(normalize=True)) # Return the frequency of each unique value in column C as a percentage"
   ]
  },
  {
   "cell_type": "code",
   "execution_count": 13,
   "metadata": {},
   "outputs": [
    {
     "name": "stdout",
     "output_type": "stream",
     "text": [
      "-0.045256707490195384\n",
      "-0.058028034799627745\n",
      "0.9870331586690257\n",
      "-0.6984200593598706\n",
      "0.6069506018883982\n"
     ]
    }
   ],
   "source": [
    "# Write a few numpy functions to get a feel for the data\n",
    "print(np.mean(df['A'])) # Return the mean of column A\n",
    "print(np.median(df['A'])) # Return the median of column A\n",
    "print(np.std(df['A'])) # Return the standard deviation of column A\n",
    "print(np.percentile(df['A'], 25)) # Return the 25th percentile of column A\n",
    "print(np.percentile(df['A'], 75)) # Return the 75th percentile of column A"
   ]
  },
  {
   "cell_type": "code",
   "execution_count": 14,
   "metadata": {},
   "outputs": [
    {
     "name": "stdout",
     "output_type": "stream",
     "text": [
      "            A         B       C        AB\n",
      "0    1.764052  0.821904  Medium  2.585956\n",
      "1    0.400157  0.700529     Low  1.100686\n",
      "2    0.978738  0.883078  Medium  1.861816\n",
      "3    2.240893  0.966575     Low  3.207468\n",
      "4    1.867558  0.774748    High  2.642306\n",
      "..        ...       ...     ...       ...\n",
      "995  0.412871  0.503528    High  0.916399\n",
      "996 -0.198399  0.620842  Medium  0.422443\n",
      "997  0.094192  0.832988    High  0.927181\n",
      "998 -1.147611  0.564597     Low -0.583014\n",
      "999 -0.358114  0.090969     Low -0.267145\n",
      "\n",
      "[1000 rows x 4 columns]\n"
     ]
    }
   ],
   "source": [
    "# Merge A and B columns and store the result in a new column called AB\n",
    "df['AB'] = df['A'] + df['B']\n",
    "print(df)"
   ]
  }
 ],
 "metadata": {
  "kernelspec": {
   "display_name": "Python 3 (ipykernel)",
   "language": "python",
   "name": "python3"
  },
  "language_info": {
   "codemirror_mode": {
    "name": "ipython",
    "version": 3
   },
   "file_extension": ".py",
   "mimetype": "text/x-python",
   "name": "python",
   "nbconvert_exporter": "python",
   "pygments_lexer": "ipython3",
   "version": "3.11.5"
  }
 },
 "nbformat": 4,
 "nbformat_minor": 2
}
